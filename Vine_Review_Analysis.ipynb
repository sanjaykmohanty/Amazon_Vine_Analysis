{
  "nbformat": 4,
  "nbformat_minor": 0,
  "metadata": {
    "colab": {
      "provenance": [],
      "authorship_tag": "ABX9TyMc5EJC7GBpUbYuPod49LK4",
      "include_colab_link": true
    },
    "kernelspec": {
      "name": "python3",
      "display_name": "Python 3"
    },
    "language_info": {
      "name": "python"
    }
  },
  "cells": [
    {
      "cell_type": "markdown",
      "metadata": {
        "id": "view-in-github",
        "colab_type": "text"
      },
      "source": [
        "<a href=\"https://colab.research.google.com/github/sanjaykmohanty/Amazon_Vine_Analysis/blob/main/Vine_Review_Analysis.ipynb\" target=\"_parent\"><img src=\"https://colab.research.google.com/assets/colab-badge.svg\" alt=\"Open In Colab\"/></a>"
      ]
    },
    {
      "cell_type": "code",
      "execution_count": 1,
      "metadata": {
        "colab": {
          "base_uri": "https://localhost:8080/"
        },
        "id": "V58rxea0HqSa",
        "outputId": "ce9513c3-7383-4343-f739-72e12c05e309"
      },
      "outputs": [
        {
          "output_type": "stream",
          "name": "stdout",
          "text": [
            "update-alternatives: using /usr/lib/jvm/java-8-openjdk-amd64/jre/bin/java to provide /usr/bin/java (java) in manual mode\n",
            "Looking in indexes: https://pypi.org/simple, https://us-python.pkg.dev/colab-wheels/public/simple/\n",
            "Collecting pyspark\n",
            "  Downloading pyspark-3.3.1.tar.gz (281.4 MB)\n",
            "\u001b[K     |████████████████████████████████| 281.4 MB 44 kB/s \n",
            "\u001b[?25hCollecting py4j==0.10.9.5\n",
            "  Downloading py4j-0.10.9.5-py2.py3-none-any.whl (199 kB)\n",
            "\u001b[K     |████████████████████████████████| 199 kB 57.3 MB/s \n",
            "\u001b[?25hBuilding wheels for collected packages: pyspark\n",
            "  Building wheel for pyspark (setup.py) ... \u001b[?25l\u001b[?25hdone\n",
            "  Created wheel for pyspark: filename=pyspark-3.3.1-py2.py3-none-any.whl size=281845512 sha256=31c39009fae8b5d5c0ccc929c448e280ede5da808b317cfaaebae314cb12f946\n",
            "  Stored in directory: /root/.cache/pip/wheels/43/dc/11/ec201cd671da62fa9c5cc77078235e40722170ceba231d7598\n",
            "Successfully built pyspark\n",
            "Installing collected packages: py4j, pyspark\n",
            "Successfully installed py4j-0.10.9.5 pyspark-3.3.1\n"
          ]
        }
      ],
      "source": [
        "!apt-get install openjdk-8-jdk-headless -qq > /dev/null\n",
        "import os\n",
        "os.environ[\"JAVA_HOME\"] = \"/usr/lib/jvm/java-8-openjdk-amd64\"\n",
        "!update-alternatives --set java /usr/lib/jvm/java-8-openjdk-amd64/jre/bin/java\n",
        "\n",
        "!pip install pyspark"
      ]
    },
    {
      "cell_type": "code",
      "execution_count": 2,
      "metadata": {
        "colab": {
          "base_uri": "https://localhost:8080/"
        },
        "id": "_xKwTpATHqSe",
        "outputId": "a56cbc49-8534-499d-91da-343789f6e990"
      },
      "outputs": [
        {
          "output_type": "stream",
          "name": "stdout",
          "text": [
            "--2022-12-24 16:06:26--  https://jdbc.postgresql.org/download/postgresql-42.2.16.jar\n",
            "Resolving jdbc.postgresql.org (jdbc.postgresql.org)... 72.32.157.228, 2001:4800:3e1:1::228\n",
            "Connecting to jdbc.postgresql.org (jdbc.postgresql.org)|72.32.157.228|:443... connected.\n",
            "HTTP request sent, awaiting response... 200 OK\n",
            "Length: 1002883 (979K) [application/java-archive]\n",
            "Saving to: ‘postgresql-42.2.16.jar’\n",
            "\n",
            "postgresql-42.2.16. 100%[===================>] 979.38K  6.17MB/s    in 0.2s    \n",
            "\n",
            "2022-12-24 16:06:27 (6.17 MB/s) - ‘postgresql-42.2.16.jar’ saved [1002883/1002883]\n",
            "\n"
          ]
        }
      ],
      "source": [
        "# Download the Postgres driver that will allow Spark to interact with Postgres.\n",
        "!wget https://jdbc.postgresql.org/download/postgresql-42.2.16.jar"
      ]
    },
    {
      "cell_type": "code",
      "execution_count": 3,
      "metadata": {
        "id": "MMqDAjVS0KN9"
      },
      "outputs": [],
      "source": [
        "from pyspark.sql import SparkSession\n",
        "spark = SparkSession.builder.appName(\"M17-Amazon-Challenge\").config(\"spark.driver.extraClassPath\",\"/content/postgresql-42.2.16.jar\").getOrCreate()"
      ]
    },
    {
      "cell_type": "markdown",
      "metadata": {
        "id": "cyBsySGuY-9V"
      },
      "source": [
        "### Load Amazon Data into Spark DataFrame"
      ]
    },
    {
      "cell_type": "code",
      "execution_count": 4,
      "metadata": {
        "id": "CtCmBhQJY-9Z",
        "colab": {
          "base_uri": "https://localhost:8080/"
        },
        "outputId": "ce609989-65ae-4d36-e43b-8319370760f5"
      },
      "outputs": [
        {
          "output_type": "stream",
          "name": "stdout",
          "text": [
            "+-----------+-----------+--------------+----------+--------------+--------------------+----------------+-----------+-------------+-----------+----+-----------------+--------------------+--------------------+-------------------+\n",
            "|marketplace|customer_id|     review_id|product_id|product_parent|       product_title|product_category|star_rating|helpful_votes|total_votes|vine|verified_purchase|     review_headline|         review_body|        review_date|\n",
            "+-----------+-----------+--------------+----------+--------------+--------------------+----------------+-----------+-------------+-----------+----+-----------------+--------------------+--------------------+-------------------+\n",
            "|         US|   42521656|R26MV8D0KG6QI6|B000SAQCWC|     159713740|The Cravings Plac...|         Grocery|          5|            0|          0|   N|                Y|Using these for y...|As a family aller...|2015-08-31 00:00:00|\n",
            "|         US|   12049833|R1OF8GP57AQ1A0|B00509LVIQ|     138680402|Mauna Loa Macadam...|         Grocery|          5|            0|          0|   N|                Y|           Wonderful|My favorite nut. ...|2015-08-31 00:00:00|\n",
            "|         US|     107642|R3VDC1QB6MC4ZZ|B00KHXESLC|     252021703|Organic Matcha Gr...|         Grocery|          5|            0|          0|   N|                N|          Five Stars|This green tea ta...|2015-08-31 00:00:00|\n",
            "|         US|    6042304|R12FA3DCF8F9ER|B000F8JIIC|     752728342|15oz Raspberry Ly...|         Grocery|          5|            0|          0|   N|                Y|          Five Stars|I love Melissa's ...|2015-08-31 00:00:00|\n",
            "|         US|   18123821| RTWHVNV6X4CNJ|B004ZWR9RQ|     552138758|Stride Spark Kine...|         Grocery|          5|            0|          0|   N|                Y|          Five Stars|                good|2015-08-31 00:00:00|\n",
            "|         US|   23649464| RIG9AWFOGRDVO|B00AL6QBZ6|     681475449|Herr's Popcorn Ho...|         Grocery|          2|            1|          1|   N|                Y|           Not Happy|The popcorn was s...|2015-08-31 00:00:00|\n",
            "|         US|   32778285|R1S1XSG4ZCHDGS|B00BCNSTRA|     578681693|Larabar uber, 1.4...|         Grocery|          5|            1|          1|   N|                Y|          Five Stars|Love these bars, ...|2015-08-31 00:00:00|\n",
            "|         US|   46612941| RB15NBVY5ELVW|B0089MM2BG|     350968436|Shirakiku Soba No...|         Grocery|          5|            2|          2|   N|                Y|          Five Stars|Love the taste bu...|2015-08-31 00:00:00|\n",
            "|         US|   31525399| R56358YM1ZJ7I|B00Y1C9770|     729982780|Jif Chocolate Nut...|         Grocery|          5|            0|          0|   N|                N|      Great tasting!|I'm a member of t...|2015-08-31 00:00:00|\n",
            "|         US|   19624355|R1ODXB3C9UP3NL|B00J074W94|       2499702|Orgain Organic Pl...|         Grocery|          1|            1|          3|   N|                N|Disgusting now an...|Used to be a dece...|2015-08-31 00:00:00|\n",
            "|         US|   31910375|R155ZMVLD5C9BP|B0001VKKOO|     189938205|Bragg - All Natur...|         Grocery|          4|            3|          4|   N|                Y|If you like soy s...|I cannot tell the...|2015-08-31 00:00:00|\n",
            "|         US|   12816533|R2IXW43PUNYM0G|B007TGH4CK|     398128262|Wholesome Sweeten...|         Grocery|          4|            1|          1|   N|                Y|          Four Stars|Good flavor and s...|2015-08-31 00:00:00|\n",
            "|         US|   23208852|R3LYEG1QCK2BG0|B002HMN6SC|      18057786|Kadoya Pure Sesam...|         Grocery|          5|            0|          0|   N|                Y|          Five Stars|Great to use in r...|2015-08-31 00:00:00|\n",
            "|         US|   17348415|R20LREICPM3YH0|B004NRHAZO|     595020880|Nishiki Premium B...|         Grocery|          5|            0|          0|   N|                Y|          Five Stars|It's rice. Have e...|2015-08-31 00:00:00|\n",
            "|         US|   46763945| RHA5COCZDVB13|B00V7LJIG8|     173088090|Everly Passion Fr...|         Grocery|          5|            0|          0|   N|                Y|          Five Stars|Very good tasting...|2015-08-31 00:00:00|\n",
            "|         US|     961747| RT9BGRQANMANE|B0000E2YFI|     120269621|Charms Blue Razzb...|         Grocery|          5|            0|          0|   N|                Y|           Excellent|They were perfect...|2015-08-31 00:00:00|\n",
            "|         US|   16888081| ROD1TU5JCS7JQ|B00VK5SQOQ|     204992966|Food Should Taste...|         Grocery|          5|            0|          0|   N|                N|              YUMMY!|Wow, these are so...|2015-08-31 00:00:00|\n",
            "|         US|   22765168|R3T6TTD2IN0EFZ|B00XDXMLL2|     971154239|Skippy Creamy Pea...|         Grocery|          1|            4|          4|   N|                N|1 Out Of 5 Of My ...|I bought this fro...|2015-08-31 00:00:00|\n",
            "|         US|   36328996|R1OCUGZ444NKV3|B00MN4KX3A|     787182505|Celestial Seasoni...|         Grocery|          5|            5|          5|   N|                Y|delicious tea and...|I love this tea, ...|2015-08-31 00:00:00|\n",
            "|         US|   27092724| RCQQGWTC4J4TZ|B004NTCE1M|     653570135|Nutiva Organic Vi...|         Grocery|          4|            0|          0|   N|                Y|    Best coconut oil|I have used servo...|2015-08-31 00:00:00|\n",
            "+-----------+-----------+--------------+----------+--------------+--------------------+----------------+-----------+-------------+-----------+----+-----------------+--------------------+--------------------+-------------------+\n",
            "only showing top 20 rows\n",
            "\n"
          ]
        }
      ],
      "source": [
        "from pyspark import SparkFiles\n",
        "url = \"https://s3.amazonaws.com/amazon-reviews-pds/tsv/amazon_reviews_us_Grocery_v1_00.tsv.gz\"\n",
        "spark.sparkContext.addFile(url)\n",
        "df = spark.read.option(\"encoding\", \"UTF-8\").csv(SparkFiles.get(\"\"), sep=\"\\t\", header=True, inferSchema=True)\n",
        "df.show()"
      ]
    },
    {
      "cell_type": "markdown",
      "source": [
        "# Perform Analysis on Dataframe"
      ],
      "metadata": {
        "id": "q4A7UJgq_1Q0"
      }
    },
    {
      "cell_type": "code",
      "source": [
        "# filter DataFrame for total_votes equal to or greater than 20\n",
        "total_votes_df = df.filter(df.total_votes >= 20)\n",
        "total_votes_df.show()"
      ],
      "metadata": {
        "id": "NqoFbo3WN3z0",
        "colab": {
          "base_uri": "https://localhost:8080/"
        },
        "outputId": "81cae018-5336-4000-bf0f-b17b35bf92b3"
      },
      "execution_count": 5,
      "outputs": [
        {
          "output_type": "stream",
          "name": "stdout",
          "text": [
            "+-----------+-----------+--------------+----------+--------------+--------------------+----------------+-----------+-------------+-----------+----+-----------------+--------------------+--------------------+-------------------+\n",
            "|marketplace|customer_id|     review_id|product_id|product_parent|       product_title|product_category|star_rating|helpful_votes|total_votes|vine|verified_purchase|     review_headline|         review_body|        review_date|\n",
            "+-----------+-----------+--------------+----------+--------------+--------------------+----------------+-----------+-------------+-----------+----+-----------------+--------------------+--------------------+-------------------+\n",
            "|         US|    2622293|R1OAZUG90XPU2U|B00JQ47DO2|     268145085|Epic Bison Bacon ...|         Grocery|          5|          250|        274|   N|                Y|Way better than s...|I love these bars...|2015-08-31 00:00:00|\n",
            "|         US|   12244195|R23VPTUJ8I8NR5|B00XWQ2F2K|     138780411|Anna and Sarah Or...|         Grocery|          1|           28|         30|   N|                Y|          DO NOT BUY|These dates were ...|2015-08-31 00:00:00|\n",
            "|         US|   13866943|R33VIWRD2X5IA9|B00JPJRQ7W|     641150281|Viva Naturals - T...|         Grocery|          1|            0|         20|   N|                Y|            One Star|Dislike the produ...|2015-08-31 00:00:00|\n",
            "|         US|   37330825| R6SRJFJ5YH4UM|B0036RKIB0|     532014945|Indus Organics Bl...|         Grocery|          5|           23|         26|   N|                Y|            Love it!|I love it.  Taste...|2015-08-31 00:00:00|\n",
            "|         US|   51876967|R3DOS07BIMP4DJ|B003GV7JFE|     210226355|Eight O Clock Cof...|         Grocery|          2|           32|         42|   N|                N|This is horrible ...|Thought I'd save ...|2015-08-31 00:00:00|\n",
            "|         US|   44929048|R26UFXLLQ2N0CR|B0001M11DC|     914003957|Frontier Natural ...|         Grocery|          1|            0|         20|   N|                Y|            One Star|I love this in my...|2015-08-31 00:00:00|\n",
            "|         US|   52911420|R30PGWX4HN1CFG|B005HG9ET0|     192623861|Essentia 9.5 pH D...|         Grocery|          1|           85|         95|   N|                Y|Floating \"Dirt\" o...|I was drinking a ...|2015-08-31 00:00:00|\n",
            "|         US|   47146329|R2XASGYIENUHQO|B011SUW67A|     114151748|Bestpresso Nespre...|         Grocery|          5|           28|         32|   N|                Y|                   L|Now for the impor...|2015-08-31 00:00:00|\n",
            "|         US|   33994423|R34UQPQCTSKQK9|B00UMPYW8E|      79597973|Banza Chickpea Pa...|         Grocery|          5|           23|         26|   N|                Y|  Yummy and healthy!|I originally saw ...|2015-08-31 00:00:00|\n",
            "|         US|   37325521|R2M6WNM2OZZHKS|B00ZK6FX60|     869293884|Zevia Naturally S...|         Grocery|          1|           20|         22|   N|                N|this clear versio...|As many have stat...|2015-08-31 00:00:00|\n",
            "|         US|   42332167| RO6JNMUJDE1LP|B00CMS97YS|     765333500|Sugar Free Gummy ...|         Grocery|          5|           37|         50|   N|                N|A magical mystery...|My boss left thes...|2015-08-30 00:00:00|\n",
            "|         US|   12449640|R1WNL4OIMSKDBR|B00886NJP6|     734319139|Okonomi Sauce - 1...|         Grocery|          5|           35|         36|   N|                Y|       Awesome Sauce|The definition of...|2015-08-30 00:00:00|\n",
            "|         US|   39997444| RDGWZ3U8LQZE6|B00WVSNJ8Y|     400361720|Organic Valley, O...|         Grocery|          2|           48|         54|   N|                Y|Price increase fo...|I love this milk,...|2015-08-30 00:00:00|\n",
            "|         US|   13197915|R3HFIKVOUDHT4I|B00BU8SM60|      64680447|ThinSlim Foods Lo...|         Grocery|          3|           64|         67|   N|                N|The regular bread...|Of my $100+ order...|2015-08-30 00:00:00|\n",
            "|         US|   35088169| R22M0N2OZSICN|B001PEZLCM|      18443677|Non-GMO Project V...|         Grocery|          5|           21|         23|   N|                Y|Great buy, price ...|Bought this for m...|2015-08-30 00:00:00|\n",
            "|         US|   34743393|R1E43139TRHB5T|B004M8WW0W|     124423953|HERSHEY'S KISSES ...|         Grocery|          5|           22|         22|   N|                Y|     Great Packaging|The packaging for...|2015-08-30 00:00:00|\n",
            "|         US|   25668033|R1L40ST6C2UJHK|B00WXZJTS4|     820652631|Medley Hills Farm...|         Grocery|          5|          262|        272|   N|                Y|Thank you, lord o...|I almost never wr...|2015-08-30 00:00:00|\n",
            "|         US|   45291046|R1XISUX6DDSXKZ|B007TGDXNO|     267956568|San Francisco Bay...|         Grocery|          5|           37|         41|   N|                Y|     Love this book!|I am such a fan o...|2015-08-30 00:00:00|\n",
            "|         US|   49860008|R35MWO8UIXOA37|B008XMVM4U|      32578015|Kirkland Signatur...|         Grocery|          1|           20|         22|   N|                Y|very very overpri...|very very overpri...|2015-08-30 00:00:00|\n",
            "|         US|   21448133|R1RZ0G02ASP7SF|B00F9VCQ2A|     132890444|       Sparkling ICE|         Grocery|          2|           35|         43|   N|                Y|Does Not Tell How...|I am conflicted o...|2015-08-30 00:00:00|\n",
            "+-----------+-----------+--------------+----------+--------------+--------------------+----------------+-----------+-------------+-----------+----+-----------------+--------------------+--------------------+-------------------+\n",
            "only showing top 20 rows\n",
            "\n"
          ]
        }
      ]
    },
    {
      "cell_type": "code",
      "source": [
        "# Retrieve all the rows where the number of helpful_votes divided by total_votes is equal to or greater than 50%.\n",
        "helpful_votes_df = total_votes_df.filter((total_votes_df.helpful_votes / total_votes_df.total_votes) >= 0.5)\n",
        "helpful_votes_df.show()"
      ],
      "metadata": {
        "colab": {
          "base_uri": "https://localhost:8080/"
        },
        "id": "22Dtywvy53sM",
        "outputId": "d1a2f953-3d74-465e-ed0d-d90fec8cd7f2"
      },
      "execution_count": 7,
      "outputs": [
        {
          "output_type": "stream",
          "name": "stdout",
          "text": [
            "+-----------+-----------+--------------+----------+--------------+--------------------+----------------+-----------+-------------+-----------+----+-----------------+--------------------+--------------------+-------------------+\n",
            "|marketplace|customer_id|     review_id|product_id|product_parent|       product_title|product_category|star_rating|helpful_votes|total_votes|vine|verified_purchase|     review_headline|         review_body|        review_date|\n",
            "+-----------+-----------+--------------+----------+--------------+--------------------+----------------+-----------+-------------+-----------+----+-----------------+--------------------+--------------------+-------------------+\n",
            "|         US|    2622293|R1OAZUG90XPU2U|B00JQ47DO2|     268145085|Epic Bison Bacon ...|         Grocery|          5|          250|        274|   N|                Y|Way better than s...|I love these bars...|2015-08-31 00:00:00|\n",
            "|         US|   12244195|R23VPTUJ8I8NR5|B00XWQ2F2K|     138780411|Anna and Sarah Or...|         Grocery|          1|           28|         30|   N|                Y|          DO NOT BUY|These dates were ...|2015-08-31 00:00:00|\n",
            "|         US|   37330825| R6SRJFJ5YH4UM|B0036RKIB0|     532014945|Indus Organics Bl...|         Grocery|          5|           23|         26|   N|                Y|            Love it!|I love it.  Taste...|2015-08-31 00:00:00|\n",
            "|         US|   51876967|R3DOS07BIMP4DJ|B003GV7JFE|     210226355|Eight O Clock Cof...|         Grocery|          2|           32|         42|   N|                N|This is horrible ...|Thought I'd save ...|2015-08-31 00:00:00|\n",
            "|         US|   52911420|R30PGWX4HN1CFG|B005HG9ET0|     192623861|Essentia 9.5 pH D...|         Grocery|          1|           85|         95|   N|                Y|Floating \"Dirt\" o...|I was drinking a ...|2015-08-31 00:00:00|\n",
            "|         US|   47146329|R2XASGYIENUHQO|B011SUW67A|     114151748|Bestpresso Nespre...|         Grocery|          5|           28|         32|   N|                Y|                   L|Now for the impor...|2015-08-31 00:00:00|\n",
            "|         US|   33994423|R34UQPQCTSKQK9|B00UMPYW8E|      79597973|Banza Chickpea Pa...|         Grocery|          5|           23|         26|   N|                Y|  Yummy and healthy!|I originally saw ...|2015-08-31 00:00:00|\n",
            "|         US|   37325521|R2M6WNM2OZZHKS|B00ZK6FX60|     869293884|Zevia Naturally S...|         Grocery|          1|           20|         22|   N|                N|this clear versio...|As many have stat...|2015-08-31 00:00:00|\n",
            "|         US|   42332167| RO6JNMUJDE1LP|B00CMS97YS|     765333500|Sugar Free Gummy ...|         Grocery|          5|           37|         50|   N|                N|A magical mystery...|My boss left thes...|2015-08-30 00:00:00|\n",
            "|         US|   12449640|R1WNL4OIMSKDBR|B00886NJP6|     734319139|Okonomi Sauce - 1...|         Grocery|          5|           35|         36|   N|                Y|       Awesome Sauce|The definition of...|2015-08-30 00:00:00|\n",
            "|         US|   39997444| RDGWZ3U8LQZE6|B00WVSNJ8Y|     400361720|Organic Valley, O...|         Grocery|          2|           48|         54|   N|                Y|Price increase fo...|I love this milk,...|2015-08-30 00:00:00|\n",
            "|         US|   13197915|R3HFIKVOUDHT4I|B00BU8SM60|      64680447|ThinSlim Foods Lo...|         Grocery|          3|           64|         67|   N|                N|The regular bread...|Of my $100+ order...|2015-08-30 00:00:00|\n",
            "|         US|   35088169| R22M0N2OZSICN|B001PEZLCM|      18443677|Non-GMO Project V...|         Grocery|          5|           21|         23|   N|                Y|Great buy, price ...|Bought this for m...|2015-08-30 00:00:00|\n",
            "|         US|   34743393|R1E43139TRHB5T|B004M8WW0W|     124423953|HERSHEY'S KISSES ...|         Grocery|          5|           22|         22|   N|                Y|     Great Packaging|The packaging for...|2015-08-30 00:00:00|\n",
            "|         US|   25668033|R1L40ST6C2UJHK|B00WXZJTS4|     820652631|Medley Hills Farm...|         Grocery|          5|          262|        272|   N|                Y|Thank you, lord o...|I almost never wr...|2015-08-30 00:00:00|\n",
            "|         US|   45291046|R1XISUX6DDSXKZ|B007TGDXNO|     267956568|San Francisco Bay...|         Grocery|          5|           37|         41|   N|                Y|     Love this book!|I am such a fan o...|2015-08-30 00:00:00|\n",
            "|         US|   49860008|R35MWO8UIXOA37|B008XMVM4U|      32578015|Kirkland Signatur...|         Grocery|          1|           20|         22|   N|                Y|very very overpri...|very very overpri...|2015-08-30 00:00:00|\n",
            "|         US|   21448133|R1RZ0G02ASP7SF|B00F9VCQ2A|     132890444|       Sparkling ICE|         Grocery|          2|           35|         43|   N|                Y|Does Not Tell How...|I am conflicted o...|2015-08-30 00:00:00|\n",
            "|         US|   22100767|R10HZ77HAWVJH6|B001EO5Q64|     653570135|Nutiva Organic Vi...|         Grocery|          5|           19|         22|   N|                Y|Organic Virgin co...|So I have been he...|2015-08-30 00:00:00|\n",
            "|         US|   51245711|R1PI04EDGLLCXV|B001OMD5ZA|     360602468|Come With Me Kitt...|         Grocery|          5|           25|         28|   N|                Y|I was fortunate e...|I was fortunate e...|2015-08-30 00:00:00|\n",
            "+-----------+-----------+--------------+----------+--------------+--------------------+----------------+-----------+-------------+-----------+----+-----------------+--------------------+--------------------+-------------------+\n",
            "only showing top 20 rows\n",
            "\n"
          ]
        }
      ]
    },
    {
      "cell_type": "code",
      "source": [
        "# Create paid vine DataFrame\n",
        "paid_vine_df = helpful_votes_df.filter(helpful_votes_df.vine == 'Y')\n",
        "paid_vine_df.show()"
      ],
      "metadata": {
        "colab": {
          "base_uri": "https://localhost:8080/"
        },
        "id": "mWp-yHbn7Usa",
        "outputId": "ae5ea547-a852-42fe-8906-71adbc00abce"
      },
      "execution_count": 8,
      "outputs": [
        {
          "output_type": "stream",
          "name": "stdout",
          "text": [
            "+-----------+-----------+--------------+----------+--------------+--------------------+----------------+-----------+-------------+-----------+----+-----------------+--------------------+--------------------+-------------------+\n",
            "|marketplace|customer_id|     review_id|product_id|product_parent|       product_title|product_category|star_rating|helpful_votes|total_votes|vine|verified_purchase|     review_headline|         review_body|        review_date|\n",
            "+-----------+-----------+--------------+----------+--------------+--------------------+----------------+-----------+-------------+-----------+----+-----------------+--------------------+--------------------+-------------------+\n",
            "|         US|   34773146|R3MKO875WGIEBJ|B00N9IMNKA|      61108636|Vita Coco Organic...|         Grocery|          5|           34|         37|   Y|                N|My Top Coconut Oi...|I'm very strict w...|2015-08-05 00:00:00|\n",
            "|         US|   35093059|R3OPNTK61FQ7MP|B00S0AOIFA|     713485594|    V8 Veggie Blends|         Grocery|          5|           32|         37|   Y|                N|I Love the Taste ...|I've long been a ...|2015-07-31 00:00:00|\n",
            "|         US|   49003190| RMDRU8I773X5U|B00RQPUV0Q|     891939475|Core Natural Nutr...|         Grocery|          4|           22|         25|   Y|                N|      Almost perfect|I've been searchi...|2015-05-18 00:00:00|\n",
            "|         US|   14021705| RR83RGWFEFZCL|B00M8VSKW4|     546564659|Thai Kitchen Coco...|         Grocery|          3|           61|         64|   Y|                N|Depends on what y...|Thai Kitchen Orga...|2015-04-09 00:00:00|\n",
            "|         US|   49622244|R2TMZ7GV8SPIRV|B00S79RMPC|     579233707|Skinny Cow Creamy...|         Grocery|          4|           23|         23|   Y|                N|        Pretty tasty|I like these chil...|2015-03-20 00:00:00|\n",
            "|         US|   44737123| RX88JLUIFA4Q2|B00JKM9HN0|     472248565|C20 Pure Coconut ...|         Grocery|          4|           84|         87|   Y|                Y|How it compares t...|Not all coconut w...|2015-02-02 00:00:00|\n",
            "|         US|   30337663| RV3AHTDRHDH7R|B00NFJPK5S|     238760432|  Nutiva Coconut Oil|         Grocery|          5|          253|        258|   Y|                N|A Better Refined ...|Since I regularly...|2015-01-22 00:00:00|\n",
            "|         US|   40062567|R13EGJI8C8YJ4Y|B00LWUP3QI|     959066090|Boost Ready To Dr...|         Grocery|          5|           19|         20|   Y|                N|NUTRITIOUS, GLUTE...|I am Lactose Into...|2014-12-31 00:00:00|\n",
            "|         US|   51813953| R9SNSQTK4TJOG|B00M3EBI20|     641150281|Viva Naturals - T...|         Grocery|          2|           11|         20|   Y|                N|Delicious, but co...|This is very deli...|2014-12-13 00:00:00|\n",
            "|         US|   39623326|R1A76AK493C8P8|B00LWUOX5K|     254603238|Boost Ready To Dr...|         Grocery|          5|           83|         90|   Y|                N|Nutritional drink...|As an nurse, we u...|2014-11-25 00:00:00|\n",
            "|         US|   33488401|R3LOTAAVOZ9D1L|B00HES7572|     682334843|Viva Naturals #1 ...|         Grocery|          3|           19|         26|   Y|                N|Serving size of 5...|There is no doubt...|2014-11-13 00:00:00|\n",
            "|         US|   34773146|R1BRN47DX8UXA7|B00IDCFXFE|     231412159|Viva Labs Organic...|         Grocery|          5|          154|        159|   Y|                N|The best GLUTEN F...|I went gluten-fre...|2014-10-31 00:00:00|\n",
            "|         US|   18590494|R13CEXESMDKT3D|B00H889MGK|     240732434|Viva Labs Organic...|         Grocery|          3|           33|         36|   Y|                N|smaller and sligh...|We regularly eat ...|2014-10-27 00:00:00|\n",
            "|         US|   50705838|R1OM89J7BP8MUZ|B00F6MFXCW|     805409900|Crispy Green 100%...|         Grocery|          1|           23|         29|   Y|                N|            No treat|A great idea and ...|2014-06-25 00:00:00|\n",
            "|         US|   49351715| RZP9LBF95AEHO|B00IP6Y21E|     484443228|Nature Valley Bis...|         Grocery|          3|           56|         58|   Y|                N|Holy unnecessary ...|Is your life inco...|2014-06-24 00:00:00|\n",
            "|         US|   29905784|R3V9P61EYXDNRV|B00H29LROK|     696184600|Kauai Coffee Medi...|         Grocery|          5|           51|         54|   Y|                N|      Awesome flavor|This coffee is so...|2014-06-15 00:00:00|\n",
            "|         US|   47914576|R2BDT05RK7TOJ9|B00CXZKCTY|     542711537|Gringo Bandito Ho...|         Grocery|          5|           21|         22|   Y|                N|Delicious, Digest...|GRINGO BANDITO HO...|2014-04-24 00:00:00|\n",
            "|         US|   51409121|R2PFVGR88KV91R|B007VJ4J5A|       9584116|Enfagrow Natural ...|         Grocery|          2|           16|         23|   Y|                N|Full of corn syru...|Unfortunately, Me...|2013-12-31 00:00:00|\n",
            "|         US|   51999404|R3BV8N52HPNJJM|B00DUQDIKU|     844957952|     Lipton Tea Bags|         Grocery|          4|           18|         20|   Y|                N|Tea with a bigger...|I recently got tr...|2013-12-19 00:00:00|\n",
            "|         US|   53058973|R2GOJRL2PW4JNM|B00DDMIMXE|      45619785|Pampers Sensitive...|         Grocery|          4|           24|         30|   Y|                N|Nice moist wipes,...|I like a lot abou...|2013-10-30 00:00:00|\n",
            "+-----------+-----------+--------------+----------+--------------+--------------------+----------------+-----------+-------------+-----------+----+-----------------+--------------------+--------------------+-------------------+\n",
            "only showing top 20 rows\n",
            "\n"
          ]
        }
      ]
    },
    {
      "cell_type": "code",
      "source": [
        "# Create unpaid vine DataFrame\n",
        "unpaid_vine_df = helpful_votes_df.filter(helpful_votes_df.vine == 'N')\n",
        "unpaid_vine_df.show()"
      ],
      "metadata": {
        "colab": {
          "base_uri": "https://localhost:8080/"
        },
        "id": "fZ5Yn1en71Ih",
        "outputId": "986dd5c2-58f1-4300-e156-a6013ae74154"
      },
      "execution_count": 9,
      "outputs": [
        {
          "output_type": "stream",
          "name": "stdout",
          "text": [
            "+-----------+-----------+--------------+----------+--------------+--------------------+----------------+-----------+-------------+-----------+----+-----------------+--------------------+--------------------+-------------------+\n",
            "|marketplace|customer_id|     review_id|product_id|product_parent|       product_title|product_category|star_rating|helpful_votes|total_votes|vine|verified_purchase|     review_headline|         review_body|        review_date|\n",
            "+-----------+-----------+--------------+----------+--------------+--------------------+----------------+-----------+-------------+-----------+----+-----------------+--------------------+--------------------+-------------------+\n",
            "|         US|    2622293|R1OAZUG90XPU2U|B00JQ47DO2|     268145085|Epic Bison Bacon ...|         Grocery|          5|          250|        274|   N|                Y|Way better than s...|I love these bars...|2015-08-31 00:00:00|\n",
            "|         US|   12244195|R23VPTUJ8I8NR5|B00XWQ2F2K|     138780411|Anna and Sarah Or...|         Grocery|          1|           28|         30|   N|                Y|          DO NOT BUY|These dates were ...|2015-08-31 00:00:00|\n",
            "|         US|   37330825| R6SRJFJ5YH4UM|B0036RKIB0|     532014945|Indus Organics Bl...|         Grocery|          5|           23|         26|   N|                Y|            Love it!|I love it.  Taste...|2015-08-31 00:00:00|\n",
            "|         US|   51876967|R3DOS07BIMP4DJ|B003GV7JFE|     210226355|Eight O Clock Cof...|         Grocery|          2|           32|         42|   N|                N|This is horrible ...|Thought I'd save ...|2015-08-31 00:00:00|\n",
            "|         US|   52911420|R30PGWX4HN1CFG|B005HG9ET0|     192623861|Essentia 9.5 pH D...|         Grocery|          1|           85|         95|   N|                Y|Floating \"Dirt\" o...|I was drinking a ...|2015-08-31 00:00:00|\n",
            "|         US|   47146329|R2XASGYIENUHQO|B011SUW67A|     114151748|Bestpresso Nespre...|         Grocery|          5|           28|         32|   N|                Y|                   L|Now for the impor...|2015-08-31 00:00:00|\n",
            "|         US|   33994423|R34UQPQCTSKQK9|B00UMPYW8E|      79597973|Banza Chickpea Pa...|         Grocery|          5|           23|         26|   N|                Y|  Yummy and healthy!|I originally saw ...|2015-08-31 00:00:00|\n",
            "|         US|   37325521|R2M6WNM2OZZHKS|B00ZK6FX60|     869293884|Zevia Naturally S...|         Grocery|          1|           20|         22|   N|                N|this clear versio...|As many have stat...|2015-08-31 00:00:00|\n",
            "|         US|   42332167| RO6JNMUJDE1LP|B00CMS97YS|     765333500|Sugar Free Gummy ...|         Grocery|          5|           37|         50|   N|                N|A magical mystery...|My boss left thes...|2015-08-30 00:00:00|\n",
            "|         US|   12449640|R1WNL4OIMSKDBR|B00886NJP6|     734319139|Okonomi Sauce - 1...|         Grocery|          5|           35|         36|   N|                Y|       Awesome Sauce|The definition of...|2015-08-30 00:00:00|\n",
            "|         US|   39997444| RDGWZ3U8LQZE6|B00WVSNJ8Y|     400361720|Organic Valley, O...|         Grocery|          2|           48|         54|   N|                Y|Price increase fo...|I love this milk,...|2015-08-30 00:00:00|\n",
            "|         US|   13197915|R3HFIKVOUDHT4I|B00BU8SM60|      64680447|ThinSlim Foods Lo...|         Grocery|          3|           64|         67|   N|                N|The regular bread...|Of my $100+ order...|2015-08-30 00:00:00|\n",
            "|         US|   35088169| R22M0N2OZSICN|B001PEZLCM|      18443677|Non-GMO Project V...|         Grocery|          5|           21|         23|   N|                Y|Great buy, price ...|Bought this for m...|2015-08-30 00:00:00|\n",
            "|         US|   34743393|R1E43139TRHB5T|B004M8WW0W|     124423953|HERSHEY'S KISSES ...|         Grocery|          5|           22|         22|   N|                Y|     Great Packaging|The packaging for...|2015-08-30 00:00:00|\n",
            "|         US|   25668033|R1L40ST6C2UJHK|B00WXZJTS4|     820652631|Medley Hills Farm...|         Grocery|          5|          262|        272|   N|                Y|Thank you, lord o...|I almost never wr...|2015-08-30 00:00:00|\n",
            "|         US|   45291046|R1XISUX6DDSXKZ|B007TGDXNO|     267956568|San Francisco Bay...|         Grocery|          5|           37|         41|   N|                Y|     Love this book!|I am such a fan o...|2015-08-30 00:00:00|\n",
            "|         US|   49860008|R35MWO8UIXOA37|B008XMVM4U|      32578015|Kirkland Signatur...|         Grocery|          1|           20|         22|   N|                Y|very very overpri...|very very overpri...|2015-08-30 00:00:00|\n",
            "|         US|   21448133|R1RZ0G02ASP7SF|B00F9VCQ2A|     132890444|       Sparkling ICE|         Grocery|          2|           35|         43|   N|                Y|Does Not Tell How...|I am conflicted o...|2015-08-30 00:00:00|\n",
            "|         US|   22100767|R10HZ77HAWVJH6|B001EO5Q64|     653570135|Nutiva Organic Vi...|         Grocery|          5|           19|         22|   N|                Y|Organic Virgin co...|So I have been he...|2015-08-30 00:00:00|\n",
            "|         US|   51245711|R1PI04EDGLLCXV|B001OMD5ZA|     360602468|Come With Me Kitt...|         Grocery|          5|           25|         28|   N|                Y|I was fortunate e...|I was fortunate e...|2015-08-30 00:00:00|\n",
            "+-----------+-----------+--------------+----------+--------------+--------------------+----------------+-----------+-------------+-----------+----+-----------------+--------------------+--------------------+-------------------+\n",
            "only showing top 20 rows\n",
            "\n"
          ]
        }
      ]
    },
    {
      "cell_type": "code",
      "source": [
        "# paid total number of reviews\n",
        "total_paid_reviews = paid_vine_df.count()\n",
        "total_paid_reviews"
      ],
      "metadata": {
        "colab": {
          "base_uri": "https://localhost:8080/"
        },
        "id": "JhwnaiCG8XPC",
        "outputId": "81ad5a94-9445-4496-a44f-bd3d393f53a3"
      },
      "execution_count": 10,
      "outputs": [
        {
          "output_type": "execute_result",
          "data": {
            "text/plain": [
              "61"
            ]
          },
          "metadata": {},
          "execution_count": 10
        }
      ]
    },
    {
      "cell_type": "code",
      "source": [
        "# paid 5-star reviews\n",
        "paid_five_star_reviews = paid_vine_df.filter(paid_vine_df.star_rating == 5).count()\n",
        "paid_five_star_reviews"
      ],
      "metadata": {
        "colab": {
          "base_uri": "https://localhost:8080/"
        },
        "id": "UyIKhGlO8Xnh",
        "outputId": "31a9d9dd-98f0-4414-da2c-63c1f19a65a6"
      },
      "execution_count": 11,
      "outputs": [
        {
          "output_type": "execute_result",
          "data": {
            "text/plain": [
              "20"
            ]
          },
          "metadata": {},
          "execution_count": 11
        }
      ]
    },
    {
      "cell_type": "code",
      "source": [
        "# paid 5-star reviews percentage\n",
        "paid_five_star_percentage = (paid_five_star_reviews / total_paid_reviews) * 100\n",
        "paid_five_star_percentage"
      ],
      "metadata": {
        "colab": {
          "base_uri": "https://localhost:8080/"
        },
        "id": "XDlPJ3Tb8X1K",
        "outputId": "4df314ab-eaeb-403a-8dc1-9dd43f738f1a"
      },
      "execution_count": 12,
      "outputs": [
        {
          "output_type": "execute_result",
          "data": {
            "text/plain": [
              "32.78688524590164"
            ]
          },
          "metadata": {},
          "execution_count": 12
        }
      ]
    },
    {
      "cell_type": "code",
      "source": [
        "# unpaid total number of reviews\n",
        "total_unpaid_reviews = unpaid_vine_df.count()\n",
        "total_unpaid_reviews"
      ],
      "metadata": {
        "colab": {
          "base_uri": "https://localhost:8080/"
        },
        "id": "_KDkiTGa8YBN",
        "outputId": "e55f991f-5f4b-4cc4-e13a-af3b5a1e09d6"
      },
      "execution_count": 13,
      "outputs": [
        {
          "output_type": "execute_result",
          "data": {
            "text/plain": [
              "28287"
            ]
          },
          "metadata": {},
          "execution_count": 13
        }
      ]
    },
    {
      "cell_type": "code",
      "source": [
        "# unpaid 5-star reviews\n",
        "unpaid_five_star_reviews = unpaid_vine_df.filter(unpaid_vine_df.star_rating == 5).count()\n",
        "unpaid_five_star_reviews"
      ],
      "metadata": {
        "colab": {
          "base_uri": "https://localhost:8080/"
        },
        "id": "g2DQs1IU8YKO",
        "outputId": "8e5d5ea6-2d76-45fc-fb98-70135141ae19"
      },
      "execution_count": 14,
      "outputs": [
        {
          "output_type": "execute_result",
          "data": {
            "text/plain": [
              "15689"
            ]
          },
          "metadata": {},
          "execution_count": 14
        }
      ]
    },
    {
      "cell_type": "code",
      "source": [
        "# unpaid 5-star reviews percentage\n",
        "unpaid_five_star_percent = (unpaid_five_star_reviews / total_unpaid_reviews) * 100\n",
        "unpaid_five_star_percent"
      ],
      "metadata": {
        "colab": {
          "base_uri": "https://localhost:8080/"
        },
        "id": "scB1UN8e8YUN",
        "outputId": "06c2f29b-d4eb-4785-c5ac-8394a693b00a"
      },
      "execution_count": 15,
      "outputs": [
        {
          "output_type": "execute_result",
          "data": {
            "text/plain": [
              "55.463640541591545"
            ]
          },
          "metadata": {},
          "execution_count": 15
        }
      ]
    }
  ]
}